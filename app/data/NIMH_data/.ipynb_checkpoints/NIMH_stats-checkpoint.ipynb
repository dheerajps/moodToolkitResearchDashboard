{
 "cells": [
  {
   "cell_type": "code",
   "execution_count": 3,
   "metadata": {
    "collapsed": true
   },
   "outputs": [],
   "source": [
    "import pandas as pd\n",
    "import numpy as np\n",
    "import glob, os"
   ]
  },
  {
   "cell_type": "code",
   "execution_count": 64,
   "metadata": {
    "collapsed": false
   },
   "outputs": [],
   "source": [
    "\n",
    "\n",
    "\n",
    "def participant_stats(filename):\n",
    "    patient = pd.read_csv(filename)\n",
    "    num_days = get_participant_days(patient)\n",
    "#     print num_days\n",
    "    num_changes = mood_change_stats(patient)\n",
    "    \n",
    "    \n",
    "def get_participant_days(patient):\n",
    "    days_with_survey = patient[patient['EndTS'].notnull()]\n",
    "    num_days = len(days_with_survey['StudayDay'].unique())\n",
    "    return num_days\n",
    "\n",
    "\n",
    "# 1 means better\n",
    "# 2 means worse\n",
    "def mood_change_stats(patient):\n",
    "    changes = patient[patient['Type.1'] == 'MD']\n",
    "    positive_changes = changes[changes['Are you in a better or worse mood now than before?'] == 1]\n",
    "    negative_changes = changes[changes['Are you in a better or worse mood now than before?'] == 2]\n",
    "    \n",
    "    total_changes = len(changes)\n",
    "    num_positive = len(positive_changes)\n",
    "    num_negative = len(negative_changes)\n",
    "    percent_positive = (num_positive) / (total_changes)\n",
    "    percent_negative = float(num_negative / total_changes)\n",
    "    positive_degree_avg\n",
    "    \n",
    "    print 'Number of total changes: %d' % total_changes\n",
    "    print 'Number of positive changes: %d' % num_positive\n",
    "    print 'Number of negative changes: %d' % num_negative\n",
    "    print 'Percentage of positive changes: %f' % percent_positive\n",
    "    print 'Percentage of negative changes: %f' % percent_negative\n",
    "\n",
    "    \n",
    "    \n",
    "    \n",
    "    "
   ]
  },
  {
   "cell_type": "code",
   "execution_count": 65,
   "metadata": {
    "collapsed": false
   },
   "outputs": [
    {
     "name": "stdout",
     "output_type": "stream",
     "text": [
      "Number of total changes: 2\n",
      "Number of positive changes: 0\n",
      "Number of negative changes: 2\n",
      "Percentage of positive changes: 0.000000\n",
      "Percentage of negative changes: 1.000000\n"
     ]
    }
   ],
   "source": [
    "survey_files = glob.glob('[0-9]*.csv')\n",
    "participant_stats(survey_files[1])\n"
   ]
  },
  {
   "cell_type": "code",
   "execution_count": null,
   "metadata": {
    "collapsed": true
   },
   "outputs": [],
   "source": []
  },
  {
   "cell_type": "code",
   "execution_count": null,
   "metadata": {
    "collapsed": true
   },
   "outputs": [],
   "source": []
  }
 ],
 "metadata": {
  "kernelspec": {
   "display_name": "Python 2",
   "language": "python",
   "name": "python2"
  },
  "language_info": {
   "codemirror_mode": {
    "name": "ipython",
    "version": 2
   },
   "file_extension": ".py",
   "mimetype": "text/x-python",
   "name": "python",
   "nbconvert_exporter": "python",
   "pygments_lexer": "ipython2",
   "version": "2.7.10"
  }
 },
 "nbformat": 4,
 "nbformat_minor": 0
}
