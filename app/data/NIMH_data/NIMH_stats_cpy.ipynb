{
 "cells": [
  {
   "cell_type": "code",
   "execution_count": 6,
   "metadata": {
    "collapsed": true
   },
   "outputs": [],
   "source": [
    "import pandas as pd\n",
    "import numpy as np\n",
    "import glob, os"
   ]
  },
  {
   "cell_type": "code",
   "execution_count": 7,
   "metadata": {
    "collapsed": false
   },
   "outputs": [],
   "source": [
    "\n",
    "def participant_stats(filename, headers):\n",
    "    patient_df = pd.read_csv(filename)\n",
    "  \n",
    "    patient_stats = mood_change_stats(patient_df)\n",
    "    patient_stats_tup = zip(headers, patient_stats)\n",
    "    patient_stats_dict = dict(patient_stats_tup)\n",
    "    return patient_stats_dict\n",
    "    \n",
    "def get_participant_days(patient):\n",
    "    days_with_survey = patient[patient['EndTS'].notnull()]\n",
    "    num_days = len(days_with_survey['StudayDay'].unique())\n",
    "#     print 'Number of active days in the study: %d' % num_days\n",
    "    return num_days\n",
    "\n",
    "# 1 means better\n",
    "# 2 means worse\n",
    "def mood_change_stats(patient):\n",
    "    patient_data = []\n",
    "    patient_data.append(patient['Patient'][1])\n",
    "    \n",
    "    num_days = get_participant_days(patient) \n",
    "    changes_df = patient[patient['Type.1'] == 'MD']\n",
    "    positive_changes_df = changes_df[changes_df['Are you in a better or worse mood now than before?'] == 1]\n",
    "    negative_changes_df = changes_df[changes_df['Are you in a better or worse mood now than before?'] == 2]\n",
    "    \n",
    "    total_changes = len(changes_df)\n",
    "    num_positive = len(positive_changes_df)\n",
    "    num_negative = len(negative_changes_df)\n",
    "    if total_changes == 0:\n",
    "        percent_positive = None\n",
    "        percent_negative = None\n",
    "        \n",
    "    else:\n",
    "        percent_positive = 100 * (num_positive / total_changes)\n",
    "        percent_negative = 100 * (num_negative / total_changes)\n",
    "    \n",
    "    pos_degree_avg = positive_changes_df['How much did your mood change?'].mean()\n",
    "    neg_degree_avg = negative_changes_df['How much did your mood change?'].mean()\n",
    "    \n",
    "    patient_data.extend([num_days,total_changes, num_positive, num_negative, percent_positive, percent_negative,\n",
    "                         pos_degree_avg, neg_degree_avg])\n",
    "    \n",
    "#     print 'Number of total changes: %d' % total_changes\n",
    "#     print 'Number of positive changes: %d' % num_positive\n",
    "#     print 'Number of negative changes: %d' % num_negative\n",
    "#     print 'Percentage of changes positive: %.2f' % percent_positive\n",
    "#     print 'Percentage of changes negative: %.2f' % percent_negative\n",
    "#     print 'Average positive change in mood: %.2f' % pos_degree_avg\n",
    "#     print 'Average negative change in mood: %.2f' % neg_degree_avg\n",
    "    \n",
    "\n",
    "    pos_triggers = positive_triggers(positive_changes_df, num_positive)\n",
    "    patient_data.extend(pos_triggers)\n",
    "    \n",
    "    neg_triggers = negative_triggers(negative_changes_df, num_negative)\n",
    "    patient_data.extend(neg_triggers)\n",
    "    \n",
    "    return patient_data\n",
    "     \n",
    "def positive_triggers(pos_df, num_positive):\n",
    "    pos_triggers = []\n",
    "    for i in range(58, 71):\n",
    "        pos_triggers.append((pos_df[[i]].values.sum() / num_positive) * 100)\n",
    " \n",
    "    return pos_triggers\n",
    "\n",
    "def negative_triggers(neg_df, num_negative):\n",
    "    neg_triggers = []\n",
    "    for i in range(71, 84):\n",
    "        neg_triggers.append((neg_df[[i]].values.sum() / num_negative) * 100)\n",
    " \n",
    "    return neg_triggers\n"
   ]
  },
  {
   "cell_type": "code",
   "execution_count": 8,
   "metadata": {
    "collapsed": false
   },
   "outputs": [],
   "source": [
    "def mood_change_stats_all(patient):\n",
    "    patient_data = []\n",
    "    patient_data.append('All Avg.')\n",
    "    \n",
    "    num_days = get_participant_days(patient) \n",
    "    changes_df = patient[patient['Type.1'] == 'MD']\n",
    "    positive_changes_df = changes_df[changes_df['Are you in a better or worse mood now than before?'] == 1]\n",
    "    negative_changes_df = changes_df[changes_df['Are you in a better or worse mood now than before?'] == 2]\n",
    "    \n",
    "    total_changes = len(changes_df)\n",
    "    num_positive = len(positive_changes_df)\n",
    "    num_negative = len(negative_changes_df)\n",
    "   \n",
    "        \n",
    "    percent_positive = 100 * float(num_positive / total_changes)\n",
    "    percent_negative = 100 * float(num_negative / total_changes)\n",
    "    \n",
    "    pos_degree_avg = positive_changes_df['How much did your mood change?'].mean()\n",
    "    neg_degree_avg = negative_changes_df['How much did your mood change?'].mean()\n",
    "    \n",
    "    patient_data.extend([num_days,total_changes, num_positive, num_negative, percent_positive, percent_negative,\n",
    "                         pos_degree_avg, neg_degree_avg])\n",
    "        \n",
    "\n",
    "    pos_triggers = positive_triggers(positive_changes_df, num_positive)\n",
    "    patient_data.extend(pos_triggers)\n",
    "    \n",
    "    neg_triggers = negative_triggers(negative_changes_df, num_negative)\n",
    "    patient_data.extend(neg_triggers)\n",
    "    \n",
    "    return patient_data"
   ]
  },
  {
   "cell_type": "code",
   "execution_count": 9,
   "metadata": {
    "collapsed": false
   },
   "outputs": [],
   "source": [
    "survey_files = glob.glob('[0-9]*.csv')\n",
    "\n",
    "headers = ['Participant', 'Active Days', 'Total Mood Changes', 'Positive Changes', 'Negative Changes', 'Percent Positive','Percent Negative', 'Degree Positive Avg','Degree Negative Avg',\n",
    "           'Pos: received good news', 'Pos: someone complimented me', 'Pos: used alcohol', 'Pos: used drugs', 'Pos: used prescribed medications', 'Pos: had sex', 'Pos: spent time with someone close',\n",
    "           'Pos: had nice day or evening', 'Pos: exercised', 'Pos: did something proud of', 'Pos: felt accepted and supported', 'Pos: other', 'Pos: NO TRIGGER',\n",
    "           'Neg: lack of sleep' ,'Neg: argument or conflict','Neg: used alcohol','Neg: used drugs','Neg: used prescribed medications','Neg: problem at work or school','Neg: stress','Neg: pain or bodiy discomfort',\n",
    "           'Neg: received bad news','Neg: upset/mad at myself','Neg: felt rejected','Neg: other','Neg: NO TRIGGER']\n",
    "\n",
    "all_files_list = []\n",
    "for s_file in survey_files:\n",
    "    patient_stats_dict = participant_stats(s_file, headers)\n",
    "    all_files_list.append(patient_stats_dict);\n",
    "\n",
    "    \n",
    "alldf = pd.concat((pd.read_csv(f) for f in survey_files))\n",
    "all_patient_stats = mood_change_stats_all(alldf)\n",
    "all_patient_stats_tup = zip(headers, all_patient_stats)\n",
    "all_patient_stats_dict = dict(all_patient_stats_tup)\n",
    "all_patient_stats_dict['Participant'] = 'All Avg'\n",
    "  \n",
    "    \n",
    "\n",
    "all_files_list.append(all_patient_stats_dict)\n",
    "stats_all_df = pd.DataFrame(all_files_list, columns=headers)\n",
    "stats_all_df.to_csv('basic_stats.csv', index = False)\n"
   ]
  },
  {
   "cell_type": "code",
   "execution_count": 4,
   "metadata": {
    "collapsed": true
   },
   "outputs": [],
   "source": []
  },
  {
   "cell_type": "code",
   "execution_count": null,
   "metadata": {
    "collapsed": true
   },
   "outputs": [],
   "source": []
  },
  {
   "cell_type": "code",
   "execution_count": null,
   "metadata": {
    "collapsed": true
   },
   "outputs": [],
   "source": []
  }
 ],
 "metadata": {
  "kernelspec": {
   "display_name": "Python 2",
   "language": "python",
   "name": "python2"
  },
  "language_info": {
   "codemirror_mode": {
    "name": "ipython",
    "version": 2
   },
   "file_extension": ".py",
   "mimetype": "text/x-python",
   "name": "python",
   "nbconvert_exporter": "python",
   "pygments_lexer": "ipython2",
   "version": "2.7.10"
  }
 },
 "nbformat": 4,
 "nbformat_minor": 0
}
